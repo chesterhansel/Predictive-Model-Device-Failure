{
 "cells": [
  {
   "cell_type": "code",
   "execution_count": null,
   "outputs": [],
   "source": [
    "import pandas as pd\n",
    "import matplotlib.pyplot as plt\n",
    "\n",
    "pd.set_option('display.max_columns', None)  # Display all columns\n",
    "pd.set_option('display.max_rows', None)  # Display all rows"
   ],
   "metadata": {
    "collapsed": false
   },
   "id": "9bc4135a516db627"
  },
  {
   "cell_type": "code",
   "execution_count": null,
   "outputs": [],
   "source": [
    "## Data Gathering\n",
    "\n",
    "# Import CSV\n",
    "df = pd.read_csv('../Data/predictive_maintenance_dataset.csv')\n",
    "\n",
    "print(df.shape)\n",
    "display(df.head(100))"
   ],
   "metadata": {
    "collapsed": false
   },
   "id": "877a1a2741af49b2"
  },
  {
   "cell_type": "code",
   "execution_count": null,
   "outputs": [],
   "source": [
    "## Data Exploration\n",
    "\n",
    "# Check for null values\n",
    "def check_nulls(_df):\n",
    "    print('check nulls')\n",
    "    _df_out = pd.DataFrame([])\n",
    "    _df_out['null_count'] = _df.isna().sum()\n",
    "    _df_out['null_count_percentage'] = _df.isna().sum() / _df.shape[0]\n",
    "    display(_df_out[_df_out['null_count'] > 0])\n",
    "check_nulls(df)\n",
    "\n",
    "# Check contents of categorical columns\n",
    "def check_count_categorical_cols(_df, _max_unique=10):\n",
    "    print('rec_count per categorical columns')\n",
    "    _cat_cols = _df\n",
    "\n",
    "    for _col_name in _cat_cols.columns:\n",
    "        _col = _cat_cols[_col_name]\n",
    "\n",
    "        if _col.nunique() <= _max_unique:\n",
    "            _df_out = _col.groupby(_col, dropna=False).size().sort_values(ascending=False)\n",
    "            display(_df_out)\n",
    "check_count_categorical_cols(df)\n",
    "\n",
    "# Check stats of numerical columns\n",
    "def check_stats_num_cols(_df):\n",
    "    print('check stats numerical cols')\n",
    "    display(_df.describe())\n",
    "check_stats_num_cols(df)\n",
    "\n",
    "# Check histogram num cols\n",
    "def check_histo_num_cols(_df):\n",
    "    print('check histogram num cols')\n",
    "    # Select numeric columns\n",
    "    numeric_cols = _df.select_dtypes(include='number')\n",
    "\n",
    "    # Create histograms for numeric columns\n",
    "    for column in numeric_cols:\n",
    "        plt.figure(figsize=(6, 3))\n",
    "        plt.hist(_df[column])\n",
    "        plt.title(column)\n",
    "        plt.xlabel(column)\n",
    "        plt.ylabel('Frequency')\n",
    "        plt.show()\n",
    "check_histo_num_cols(df)\n",
    "\n",
    "'''\n",
    "Remarks:\n",
    "No null values\n",
    "Indicators for outliers\n",
    "Low variance features found\n",
    "    Metric 1 has uniform distribution, indicates low variance, consider dropping\n",
    "    Metric 2,3,4,7,8,9 has narrow distribution, indicates existence of outliers, handle outliers\n",
    "'''\n"
   ],
   "metadata": {
    "collapsed": false
   },
   "id": "cd36a0c613f066"
  }
 ],
 "metadata": {
  "kernelspec": {
   "display_name": "Python 3",
   "language": "python",
   "name": "python3"
  },
  "language_info": {
   "codemirror_mode": {
    "name": "ipython",
    "version": 2
   },
   "file_extension": ".py",
   "mimetype": "text/x-python",
   "name": "python",
   "nbconvert_exporter": "python",
   "pygments_lexer": "ipython2",
   "version": "2.7.6"
  }
 },
 "nbformat": 4,
 "nbformat_minor": 5
}
